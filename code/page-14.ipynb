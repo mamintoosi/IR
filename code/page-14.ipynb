{
 "cells": [
  {
   "cell_type": "markdown",
   "metadata": {},
   "source": [
    "#### محمود امین طوسی - درس بازیابی اطلاعات \n",
    " مثال صفحه ۱۴ کتاب \n",
    " \n",
    " Natural Language Processing with Python"
   ]
  },
  {
   "cell_type": "code",
   "execution_count": 1,
   "metadata": {},
   "outputs": [
    {
     "name": "stdout",
     "output_type": "stream",
     "text": [
      "/home\n",
      "the\n",
      "one\n",
      "move\n",
      "make\n",
      "the\n",
      "where\n",
      "move\n",
      "(replace\n",
      "pendrive\n",
      "move\n",
      "(where\n",
      "couple\n",
      "give\n",
      "close\n"
     ]
    }
   ],
   "source": [
    "for line in open(\"notes.txt\"):\n",
    "    for word in line.split():\n",
    "        if word.endswith('e'):\n",
    "            print(word)"
   ]
  },
  {
   "cell_type": "code",
   "execution_count": null,
   "metadata": {},
   "outputs": [],
   "source": []
  }
 ],
 "metadata": {
  "kernelspec": {
   "display_name": "Python 3",
   "language": "python",
   "name": "python3"
  },
  "language_info": {
   "codemirror_mode": {
    "name": "ipython",
    "version": 3
   },
   "file_extension": ".py",
   "mimetype": "text/x-python",
   "name": "python",
   "nbconvert_exporter": "python",
   "pygments_lexer": "ipython3",
   "version": "3.7.0"
  }
 },
 "nbformat": 4,
 "nbformat_minor": 2
}
