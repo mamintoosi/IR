{
 "cells": [
  {
   "cell_type": "code",
   "execution_count": 1,
   "metadata": {},
   "outputs": [
    {
     "name": "stdout",
     "output_type": "stream",
     "text": [
      "There are 10 sentences of following three classes on which K-NN classification and K-means clustering is performed : \n",
      "1. Cricket \n",
      "2. Artificial Intelligence \n",
      "3. Chemistry\n",
      "\n",
      "Below 3 sentences will be predicted against the learned nieghbourhood and learned clusters:\n",
      "1.  Chemical compunds are used for preparing bombs based on some reactions \n",
      "2.  Cricket is a boring game where the batsman only enjoys the game \n",
      "3.  Machine learning is an area of Artificial intelligence\n",
      "\n",
      "-------------------------------PREDICTIONS BY KNN------------------------------------------\n",
      "\n",
      " Chemical compunds are used for preparing bombs based on some reactions : Chemistry \n",
      " Cricket is a boring game where the batsman only enjoys the game : Cricket \n",
      " Machine learning is an area of Artificial intelligence : AI\n",
      "\n",
      "-------------------------------PREDICTIONS BY K-Means--------------------------------------\n",
      "\n",
      "Index of Cricket cluster :  1\n",
      "Index of Artificial Intelligence cluster :  0\n",
      "Index of Chemistry cluster :  2\n",
      "\n",
      " Chemical compunds are used for preparing bombs based on some reactions : 2 \n",
      " Cricket is a boring game where the batsman only enjoys the game : 1 \n",
      " Machine learning is an area of Artificial intelligence : 0\n"
     ]
    }
   ],
   "source": [
    "%run text_classification_clustering.py"
   ]
  },
  {
   "cell_type": "code",
   "execution_count": null,
   "metadata": {},
   "outputs": [],
   "source": []
  }
 ],
 "metadata": {
  "kernelspec": {
   "display_name": "Python 3",
   "language": "python",
   "name": "python3"
  },
  "language_info": {
   "codemirror_mode": {
    "name": "ipython",
    "version": 3
   },
   "file_extension": ".py",
   "mimetype": "text/x-python",
   "name": "python",
   "nbconvert_exporter": "python",
   "pygments_lexer": "ipython3",
   "version": "3.6.7"
  }
 },
 "nbformat": 4,
 "nbformat_minor": 2
}
