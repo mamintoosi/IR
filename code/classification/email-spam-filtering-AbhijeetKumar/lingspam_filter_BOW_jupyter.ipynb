{
 "cells": [
  {
   "cell_type": "code",
   "execution_count": 18,
   "metadata": {},
   "outputs": [],
   "source": [
    "# -*- coding: utf-8 -*-\n",
    "\"\"\"\n",
    "@author: M.Amintoosi\n",
    "\"\"\"\n",
    "\n",
    "import os\n",
    "import numpy as np\n",
    "from collections import Counter\n",
    "from sklearn.naive_bayes import MultinomialNB\n",
    "from sklearn.svm import LinearSVC\n",
    "from sklearn.metrics import confusion_matrix\n",
    "from sklearn.feature_extraction.text import CountVectorizer"
   ]
  },
  {
   "cell_type": "code",
   "execution_count": 19,
   "metadata": {},
   "outputs": [],
   "source": [
    "def read_corpus(mail_dir): \n",
    "    files = [os.path.join(mail_dir,fi) for fi in os.listdir(mail_dir)]\n",
    "    corpus = []\n",
    "    for file_path in files:\n",
    "        with open(file_path) as f_input:\n",
    "            lines = f_input.readlines()\n",
    "            # دو خط اول و دوم را نمی‌خواهیم\n",
    "            corpus.append(lines[2].rstrip('\\n'))\n",
    "    return corpus"
   ]
  },
  {
   "cell_type": "code",
   "execution_count": 20,
   "metadata": {},
   "outputs": [],
   "source": [
    "train_dir = 'lingspam_public/train-mails'\n",
    "train_docs = read_corpus(train_dir)\n",
    "\n",
    "# Prepare feature vectors per training mail and its labels\n",
    "vect = CountVectorizer()\n",
    "vect.fit(train_docs)\n",
    "\n",
    "ز = vect.transform(train_docs)\n",
    "train_labels = [fi.startswith('spm') for fi in os.listdir(train_dir)]"
   ]
  },
  {
   "cell_type": "code",
   "execution_count": 22,
   "metadata": {},
   "outputs": [
    {
     "data": {
      "text/plain": [
       "MultinomialNB(alpha=1.0, class_prior=None, fit_prior=True)"
      ]
     },
     "execution_count": 22,
     "metadata": {},
     "output_type": "execute_result"
    }
   ],
   "source": [
    "# Training SVM and Naive bayes classifier and its variants\n",
    "\n",
    "model1 = LinearSVC()\n",
    "model2 = MultinomialNB()\n",
    "\n",
    "model1.fit(train_X,train_labels)\n",
    "model2.fit(train_X,train_labels)"
   ]
  },
  {
   "cell_type": "code",
   "execution_count": 24,
   "metadata": {},
   "outputs": [],
   "source": [
    "# Test the unseen mails for Spam\n",
    "\n",
    "test_dir = 'lingspam_public/test-mails'\n",
    "test_docs = read_corpus(test_dir)\n",
    "test_X = vect.transform(test_docs)\n",
    "test_labels = [fi.startswith('spm') for fi in os.listdir(test_dir)]"
   ]
  },
  {
   "cell_type": "code",
   "execution_count": 25,
   "metadata": {},
   "outputs": [
    {
     "name": "stdout",
     "output_type": "stream",
     "text": [
      "[[122   8]\n",
      " [  2 128]]\n",
      "[[129   1]\n",
      " [  6 124]]\n"
     ]
    }
   ],
   "source": [
    "result1 = model1.predict(test_X)\n",
    "result2 = model2.predict(test_X)\n",
    "\n",
    "print(confusion_matrix(test_labels,result1))\n",
    "print(confusion_matrix(test_labels,result2))"
   ]
  },
  {
   "cell_type": "code",
   "execution_count": 26,
   "metadata": {},
   "outputs": [
    {
     "data": {
      "text/plain": [
       "(702, 19571)"
      ]
     },
     "execution_count": 26,
     "metadata": {},
     "output_type": "execute_result"
    }
   ],
   "source": [
    "train_X.shape"
   ]
  },
  {
   "cell_type": "code",
   "execution_count": null,
   "metadata": {},
   "outputs": [],
   "source": []
  }
 ],
 "metadata": {
  "kernelspec": {
   "display_name": "Python 3",
   "language": "python",
   "name": "python3"
  },
  "language_info": {
   "codemirror_mode": {
    "name": "ipython",
    "version": 3
   },
   "file_extension": ".py",
   "mimetype": "text/x-python",
   "name": "python",
   "nbconvert_exporter": "python",
   "pygments_lexer": "ipython3",
   "version": "3.6.7"
  }
 },
 "nbformat": 4,
 "nbformat_minor": 2
}
