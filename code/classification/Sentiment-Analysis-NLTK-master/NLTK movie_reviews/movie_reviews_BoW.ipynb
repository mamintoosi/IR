{
 "cells": [
  {
   "cell_type": "code",
   "execution_count": 11,
   "metadata": {},
   "outputs": [],
   "source": [
    "برنامه هنوز کامل نیست\n",
    "import nltk\n",
    "from nltk.corpus import movie_reviews\n",
    "from nltk.classify import NaiveBayesClassifier\n",
    "import nltk.classify.util as util\n",
    "from sklearn.feature_extraction.text import CountVectorizer\n",
    "\n",
    "\n",
    "pid = movie_reviews.fileids('neg')\n",
    "nid = movie_reviews.fileids('pos')\n",
    "\n",
    "pdocs = [movie_reviews.raw(fileids = id) for id in pid]\n",
    "ndocs = [movie_reviews.raw(fileids = id) for id in nid]\n",
    "\n",
    "vect = CountVectorizer()\n",
    "vect.fit(pdocs)\n",
    "\n",
    "train_X = vect.transform(pdocs)\n",
    "test_X = vect.transform(ndocs)\n",
    "\n",
    "ncutoff = int(len(nrev)*3/4)\n",
    "pcutoff = int(len(prev)*3/4)\n",
    "ادامه دارد..."
   ]
  },
  {
   "cell_type": "code",
   "execution_count": 13,
   "metadata": {},
   "outputs": [
    {
     "data": {
      "text/plain": [
       "<1000x28385 sparse matrix of type '<class 'numpy.int64'>'\n",
       "\twith 329603 stored elements in Compressed Sparse Row format>"
      ]
     },
     "execution_count": 13,
     "metadata": {},
     "output_type": "execute_result"
    }
   ],
   "source": [
    "test_X"
   ]
  },
  {
   "cell_type": "code",
   "execution_count": 1,
   "metadata": {},
   "outputs": [
    {
     "name": "stdout",
     "output_type": "stream",
     "text": [
      "Accuracy is :  72.8\n"
     ]
    }
   ],
   "source": [
    "train_set = train_X[ncutoff,:] + [:pcutoff]\n",
    "test_set = nrev[ncutoff:] + prev[pcutoff:]\n",
    "\n",
    "\n",
    "# NaiveBayesClassifier\n",
    "classifier = NaiveBayesClassifier.train(train_set)\n",
    "\n",
    "# Accuracy\n",
    "print (\"Accuracy is : \", util.accuracy(classifier, test_set) * 100)"
   ]
  },
  {
   "cell_type": "code",
   "execution_count": 8,
   "metadata": {},
   "outputs": [
    {
     "name": "stdout",
     "output_type": "stream",
     "text": [
      "1000\n",
      "1000\n"
     ]
    }
   ],
   "source": [
    "print(len(prev))\n",
    "print(len(nrev))"
   ]
  },
  {
   "cell_type": "code",
   "execution_count": 10,
   "metadata": {},
   "outputs": [
    {
     "data": {
      "text/plain": [
       "<1000x28385 sparse matrix of type '<class 'numpy.int64'>'\n",
       "\twith 320886 stored elements in Compressed Sparse Row format>"
      ]
     },
     "execution_count": 10,
     "metadata": {},
     "output_type": "execute_result"
    }
   ],
   "source": [
    "train_X"
   ]
  },
  {
   "cell_type": "code",
   "execution_count": null,
   "metadata": {},
   "outputs": [],
   "source": []
  }
 ],
 "metadata": {
  "kernelspec": {
   "display_name": "Python 3",
   "language": "python",
   "name": "python3"
  },
  "language_info": {
   "codemirror_mode": {
    "name": "ipython",
    "version": 3
   },
   "file_extension": ".py",
   "mimetype": "text/x-python",
   "name": "python",
   "nbconvert_exporter": "python",
   "pygments_lexer": "ipython3",
   "version": "3.6.7"
  }
 },
 "nbformat": 4,
 "nbformat_minor": 2
}
