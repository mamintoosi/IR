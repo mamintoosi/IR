{
 "cells": [
  {
   "cell_type": "markdown",
   "metadata": {
    "colab_type": "text",
    "id": "KfzK5uP8295u"
   },
   "source": [
    "## Classifying Reuters-21578 collection with Python\n",
    "https://miguelmalvarez.com/2016/11/07/classifying-reuters-21578-collection-with-python/\n",
    "\n",
    "Modified by: M. Amintoosi"
   ]
  },
  {
   "cell_type": "code",
   "execution_count": 7,
   "metadata": {
    "colab": {
     "base_uri": "https://localhost:8080/",
     "height": 134
    },
    "colab_type": "code",
    "executionInfo": {
     "elapsed": 1219,
     "status": "ok",
     "timestamp": 1554792820850,
     "user": {
      "displayName": "Mahmood Amintoosi",
      "photoUrl": "https://lh4.googleusercontent.com/-L9kqNgEMq4Q/AAAAAAAAAAI/AAAAAAAACn4/2zKYeoGn0fI/s64/photo.jpg",
      "userId": "06389092743998374259"
     },
     "user_tz": -270
    },
    "id": "xbQnJodg3PKD",
    "outputId": "a4bd0b48-23f2-4b93-bc56-d1b20d284418"
   },
   "outputs": [
    {
     "name": "stdout",
     "output_type": "stream",
     "text": [
      "[nltk_data] Downloading package stopwords to /root/nltk_data...\n",
      "[nltk_data]   Package stopwords is already up-to-date!\n",
      "[nltk_data] Downloading package reuters to /root/nltk_data...\n",
      "[nltk_data]   Package reuters is already up-to-date!\n",
      "[nltk_data] Downloading package punkt to /root/nltk_data...\n",
      "[nltk_data]   Unzipping tokenizers/punkt.zip.\n"
     ]
    },
    {
     "data": {
      "text/plain": [
       "True"
      ]
     },
     "execution_count": 7,
     "metadata": {
      "tags": []
     },
     "output_type": "execute_result"
    }
   ],
   "source": [
    "import nltk\n",
    "nltk.download('stopwords')\n",
    "nltk.download('reuters')\n",
    "nltk.download('punkt')"
   ]
  },
  {
   "cell_type": "code",
   "execution_count": 1,
   "metadata": {
    "colab": {},
    "colab_type": "code",
    "id": "5pvgNqGD295x"
   },
   "outputs": [],
   "source": [
    "from nltk import word_tokenize\n",
    "from nltk.stem.porter import PorterStemmer\n",
    "from nltk.corpus import stopwords\n",
    "import re\n",
    " \n",
    "cachedStopWords = stopwords.words(\"english\")\n",
    " \n",
    "def tokenize(text):\n",
    "  min_length = 3\n",
    "  words = map(lambda word: word.lower(), word_tokenize(text))\n",
    "  words = [word for word in words if word not in cachedStopWords]\n",
    "  tokens = (list(map(lambda token: PorterStemmer().stem(token),\n",
    "                                   words)))\n",
    "  p = re.compile('[a-zA-Z]+');\n",
    "  filtered_tokens = list(filter (lambda token: p.match(token) and\n",
    "                               len(token) >= min_length,\n",
    "                               tokens))\n",
    "  return filtered_tokens"
   ]
  },
  {
   "cell_type": "code",
   "execution_count": 2,
   "metadata": {
    "colab": {
     "base_uri": "https://localhost:8080/",
     "height": 70
    },
    "colab_type": "code",
    "executionInfo": {
     "elapsed": 54775,
     "status": "ok",
     "timestamp": 1554792880131,
     "user": {
      "displayName": "Mahmood Amintoosi",
      "photoUrl": "https://lh4.googleusercontent.com/-L9kqNgEMq4Q/AAAAAAAAAAI/AAAAAAAACn4/2zKYeoGn0fI/s64/photo.jpg",
      "userId": "06389092743998374259"
     },
     "user_tz": -270
    },
    "id": "GJqfjzt52951",
    "outputId": "dac38ac3-c8bd-4dcd-c894-8d8a0b95d9c5"
   },
   "outputs": [
    {
     "name": "stderr",
     "output_type": "stream",
     "text": [
      "d:\\ProgramData\\Anaconda3\\envs\\tf_gpu\\lib\\site-packages\\sklearn\\feature_extraction\\text.py:300: UserWarning: Your stop_words may be inconsistent with your preprocessing. Tokenizing the stop words generated tokens ['could', 'might', 'must', \"n't\", 'need', 'sha', 'would'] not in stop_words.\n",
      "  'stop_words.' % sorted(inconsistent))\n"
     ]
    }
   ],
   "source": [
    "from nltk.corpus import stopwords, reuters\n",
    "# from nltk.tokenize import sent_tokenize, word_tokenize\n",
    "from sklearn.feature_extraction.text import TfidfVectorizer\n",
    "from sklearn.preprocessing import MultiLabelBinarizer\n",
    "from sklearn.svm import LinearSVC\n",
    "from sklearn.multiclass import OneVsRestClassifier\n",
    "\n",
    "stop_words = stopwords.words(\"english\")\n",
    " \n",
    "# List of document ids\n",
    "documents = reuters.fileids()\n",
    " \n",
    "train_docs_id = list(filter(lambda doc: doc.startswith(\"train\"),\n",
    "                            documents))\n",
    "test_docs_id = list(filter(lambda doc: doc.startswith(\"test\"),\n",
    "                           documents))\n",
    " \n",
    "train_docs = [reuters.raw(doc_id) for doc_id in train_docs_id]\n",
    "test_docs = [reuters.raw(doc_id) for doc_id in test_docs_id]\n",
    " \n",
    "# Tokenisation\n",
    "vectorizer = TfidfVectorizer(stop_words=stop_words,\n",
    "                             tokenizer=tokenize)\n",
    "#                              tokenizer=word_tokenize)\n",
    " \n",
    "# Learn and transform train documents\n",
    "vectorised_train_documents = vectorizer.fit_transform(train_docs)\n",
    "vectorised_test_documents = vectorizer.transform(test_docs)\n",
    " \n",
    "# Transform multilabel labels\n",
    "mlb = MultiLabelBinarizer()\n",
    "train_labels = mlb.fit_transform([reuters.categories(doc_id)\n",
    "                                  for doc_id in train_docs_id])\n",
    "test_labels = mlb.transform([reuters.categories(doc_id)\n",
    "                             for doc_id in test_docs_id])\n",
    " \n",
    "# Classifier\n",
    "classifier = OneVsRestClassifier(LinearSVC(random_state=42))\n",
    "classifier.fit(vectorised_train_documents, train_labels)\n",
    " \n",
    "predictions = classifier.predict(vectorised_test_documents)"
   ]
  },
  {
   "cell_type": "code",
   "execution_count": 17,
   "metadata": {
    "colab": {
     "base_uri": "https://localhost:8080/",
     "height": 50
    },
    "colab_type": "code",
    "executionInfo": {
     "elapsed": 999,
     "status": "ok",
     "timestamp": 1554793006917,
     "user": {
      "displayName": "Mahmood Amintoosi",
      "photoUrl": "https://lh4.googleusercontent.com/-L9kqNgEMq4Q/AAAAAAAAAAI/AAAAAAAACn4/2zKYeoGn0fI/s64/photo.jpg",
      "userId": "06389092743998374259"
     },
     "user_tz": -270
    },
    "id": "o5LlzxWE2955",
    "outputId": "f4198a84-7046-4bf9-cb37-478157ce93e0"
   },
   "outputs": [
    {
     "name": "stdout",
     "output_type": "stream",
     "text": [
      "[[0. 0. 0. ... 0. 0. 0.]]\n",
      "  (0, 1421)\t0.2290813551945604\n",
      "  (0, 3529)\t0.2815691787361101\n",
      "  (0, 15546)\t0.06537563190866612\n",
      "  (0, 16709)\t0.054046168604127816\n",
      "  (0, 3900)\t0.023754129808964037\n",
      "  (0, 18510)\t0.0418993311187372\n",
      "  (0, 20058)\t0.06734000282564423\n",
      "  (0, 20674)\t0.04175490718197429\n",
      "  (0, 575)\t0.05323819068788935\n",
      "  (0, 5295)\t0.04300561184179896\n",
      "  (0, 16830)\t0.025476637359625777\n",
      "  (0, 5448)\t0.028244773563675808\n",
      "  (0, 9373)\t0.023911353274921356\n",
      "  (0, 8775)\t0.028406190037275698\n",
      "  (0, 14590)\t0.03407710883503197\n",
      "  (0, 3619)\t0.05966114382643919\n",
      "  (0, 18309)\t0.1145406775972802\n",
      "  (0, 620)\t0.0317956666309888\n",
      "  (0, 12648)\t0.035412330583819596\n",
      "  (0, 8507)\t0.05496217841627037\n",
      "  (0, 10273)\t0.025126103475552445\n",
      "  (0, 15491)\t0.0418993311187372\n",
      "  (0, 3633)\t0.31777993287677625\n",
      "  (0, 17001)\t0.2167873893572331\n",
      "  (0, 15980)\t0.04929645159726099\n",
      "  :\t:\n",
      "  (0, 12887)\t0.1764032327692246\n",
      "  (0, 4589)\t0.10398384446706203\n",
      "  (0, 4812)\t0.04267091699411684\n",
      "  (0, 19091)\t0.036213132075115624\n",
      "  (0, 4099)\t0.058801077589741534\n",
      "  (0, 4317)\t0.05512402424700809\n",
      "  (0, 1007)\t0.05926487751627555\n",
      "  (0, 19510)\t0.09090472089008587\n",
      "  (0, 2617)\t0.054046168604127816\n",
      "  (0, 15257)\t0.038250702856185245\n",
      "  (0, 1240)\t0.05251542981302639\n",
      "  (0, 2555)\t0.03699999819636058\n",
      "  (0, 1012)\t0.04521163807529621\n",
      "  (0, 3927)\t0.03497314808397715\n",
      "  (0, 10404)\t0.058801077589741534\n",
      "  (0, 16398)\t0.02420376827465981\n",
      "  (0, 4319)\t0.021832672738810673\n",
      "  (0, 6533)\t0.030434316288368686\n",
      "  (0, 6146)\t0.019835754587729598\n",
      "  (0, 14676)\t0.03721779057167628\n",
      "  (0, 2258)\t0.03692891068338604\n",
      "  (0, 18767)\t0.020153204357913623\n",
      "  (0, 3649)\t0.027227317275821925\n",
      "  (0, 2801)\t0.0572703387986401\n",
      "  (0, 11460)\t0.04742582597973056\n"
     ]
    }
   ],
   "source": [
    "tmp = vectorised_train_documents[0,:]\n",
    "print(tmp.toarray())\n",
    "print(tmp)"
   ]
  },
  {
   "cell_type": "code",
   "execution_count": 3,
   "metadata": {
    "colab": {
     "base_uri": "https://localhost:8080/",
     "height": 50
    },
    "colab_type": "code",
    "executionInfo": {
     "elapsed": 999,
     "status": "ok",
     "timestamp": 1554793006917,
     "user": {
      "displayName": "Mahmood Amintoosi",
      "photoUrl": "https://lh4.googleusercontent.com/-L9kqNgEMq4Q/AAAAAAAAAAI/AAAAAAAACn4/2zKYeoGn0fI/s64/photo.jpg",
      "userId": "06389092743998374259"
     },
     "user_tz": -270
    },
    "id": "o5LlzxWE2955",
    "outputId": "f4198a84-7046-4bf9-cb37-478157ce93e0"
   },
   "outputs": [
    {
     "data": {
      "text/plain": [
       "<3019x20684 sparse matrix of type '<class 'numpy.float64'>'\n",
       "\twith 128979 stored elements in Compressed Sparse Row format>"
      ]
     },
     "execution_count": 3,
     "metadata": {},
     "output_type": "execute_result"
    }
   ],
   "source": [
    "vectorised_test_documents"
   ]
  },
  {
   "cell_type": "code",
   "execution_count": 6,
   "metadata": {},
   "outputs": [
    {
     "data": {
      "text/plain": [
       "<7769x20684 sparse matrix of type '<class 'numpy.float64'>'\n",
       "\twith 370244 stored elements in Compressed Sparse Row format>"
      ]
     },
     "execution_count": 6,
     "metadata": {},
     "output_type": "execute_result"
    }
   ],
   "source": [
    "vectorised_train_documents"
   ]
  },
  {
   "cell_type": "code",
   "execution_count": 4,
   "metadata": {
    "colab": {
     "base_uri": "https://localhost:8080/",
     "height": 170
    },
    "colab_type": "code",
    "executionInfo": {
     "elapsed": 926,
     "status": "ok",
     "timestamp": 1554792899784,
     "user": {
      "displayName": "Mahmood Amintoosi",
      "photoUrl": "https://lh4.googleusercontent.com/-L9kqNgEMq4Q/AAAAAAAAAAI/AAAAAAAACn4/2zKYeoGn0fI/s64/photo.jpg",
      "userId": "06389092743998374259"
     },
     "user_tz": -270
    },
    "id": "k_245YoP2958",
    "outputId": "b0b444ac-8ce6-42bb-bdf7-2947042899a5"
   },
   "outputs": [
    {
     "name": "stdout",
     "output_type": "stream",
     "text": [
      "Micro-average quality numbers\n",
      "Precision: 0.9455, Recall: 0.8013, F1-measure: 0.8674\n",
      "Macro-average quality numbers\n",
      "Precision: 0.6493, Recall: 0.3948, F1-measure: 0.4665\n"
     ]
    },
    {
     "name": "stderr",
     "output_type": "stream",
     "text": [
      "d:\\ProgramData\\Anaconda3\\envs\\tf_gpu\\lib\\site-packages\\sklearn\\metrics\\classification.py:1143: UndefinedMetricWarning: Precision is ill-defined and being set to 0.0 in labels with no predicted samples.\n",
      "  'precision', 'predicted', average, warn_for)\n",
      "d:\\ProgramData\\Anaconda3\\envs\\tf_gpu\\lib\\site-packages\\sklearn\\metrics\\classification.py:1143: UndefinedMetricWarning: F-score is ill-defined and being set to 0.0 in labels with no predicted samples.\n",
      "  'precision', 'predicted', average, warn_for)\n"
     ]
    }
   ],
   "source": [
    "from sklearn.metrics import f1_score,precision_score,recall_score\n",
    " \n",
    "precision = precision_score(test_labels, predictions,\n",
    "                            average='micro')\n",
    "recall = recall_score(test_labels, predictions,\n",
    "                      average='micro')\n",
    "f1 = f1_score(test_labels, predictions, average='micro')\n",
    " \n",
    "print(\"Micro-average quality numbers\")\n",
    "print(\"Precision: {:.4f}, Recall: {:.4f}, F1-measure: {:.4f}\"\n",
    "        .format(precision, recall, f1))\n",
    " \n",
    "precision = precision_score(test_labels, predictions,\n",
    "                            average='macro')\n",
    "recall = recall_score(test_labels, predictions,\n",
    "                      average='macro')\n",
    "f1 = f1_score(test_labels, predictions, average='macro')\n",
    " \n",
    "print(\"Macro-average quality numbers\")\n",
    "print(\"Precision: {:.4f}, Recall: {:.4f}, F1-measure: {:.4f}\"\n",
    "        .format(precision, recall, f1))"
   ]
  },
  {
   "cell_type": "code",
   "execution_count": 5,
   "metadata": {
    "colab": {},
    "colab_type": "code",
    "id": "sOwdNEis295_"
   },
   "outputs": [],
   "source": [
    "# import scipy.io as sio\n",
    "# sio.savemat('rt.mat', {'X_train':vectorised_train_documents,'train_labels':train_labels,'X_test':vectorised_test_documents,'test_labels':test_labels})"
   ]
  },
  {
   "cell_type": "code",
   "execution_count": 22,
   "metadata": {
    "colab": {},
    "colab_type": "code",
    "id": "LY_-oPA9296C"
   },
   "outputs": [
    {
     "data": {
      "text/plain": [
       "array([[1, 1, 0, 0],\n",
       "       [0, 0, 1, 0],\n",
       "       [1, 0, 0, 1]])"
      ]
     },
     "execution_count": 22,
     "metadata": {},
     "output_type": "execute_result"
    }
   ],
   "source": [
    "mlb.fit_transform([(1, 2), (3,),(1,4)])"
   ]
  },
  {
   "cell_type": "code",
   "execution_count": null,
   "metadata": {},
   "outputs": [],
   "source": []
  }
 ],
 "metadata": {
  "colab": {
   "collapsed_sections": [],
   "name": "Reuters_SVM.ipynb",
   "provenance": [],
   "version": "0.3.2"
  },
  "kernelspec": {
   "display_name": "Python 3",
   "language": "python",
   "name": "python3"
  },
  "language_info": {
   "codemirror_mode": {
    "name": "ipython",
    "version": 3
   },
   "file_extension": ".py",
   "mimetype": "text/x-python",
   "name": "python",
   "nbconvert_exporter": "python",
   "pygments_lexer": "ipython3",
   "version": "3.6.7"
  }
 },
 "nbformat": 4,
 "nbformat_minor": 1
}
