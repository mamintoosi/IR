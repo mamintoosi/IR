{
 "cells": [
  {
   "cell_type": "markdown",
   "metadata": {
    "colab_type": "text",
    "id": "0CJmMyBqhnBt"
   },
   "source": [
    "# محمود امین طوسی - درس بازیابی اطلاعات \n",
    "\n",
    "پردازش متن فارسی "
   ]
  },
  {
   "cell_type": "code",
   "execution_count": 1,
   "metadata": {
    "colab": {
     "base_uri": "https://localhost:8080/",
     "height": 34
    },
    "colab_type": "code",
    "executionInfo": {
     "elapsed": 7166,
     "status": "ok",
     "timestamp": 1552153046161,
     "user": {
      "displayName": "Mahmood Amintoosi",
      "photoUrl": "https://lh4.googleusercontent.com/-L9kqNgEMq4Q/AAAAAAAAAAI/AAAAAAAACn4/2zKYeoGn0fI/s64/photo.jpg",
      "userId": "06389092743998374259"
     },
     "user_tz": -210
    },
    "id": "VHk4CdnZh43H",
    "outputId": "098dc95a-bccd-4f9a-c829-ccf55914cd4b"
   },
   "outputs": [],
   "source": [
    "# # Load the Drive helper and mount\n",
    "# from google.colab import drive\n",
    "# drive.mount('/content/drive')"
   ]
  },
  {
   "cell_type": "code",
   "execution_count": 2,
   "metadata": {
    "colab": {
     "base_uri": "https://localhost:8080/",
     "height": 34
    },
    "colab_type": "code",
    "executionInfo": {
     "elapsed": 2260,
     "status": "ok",
     "timestamp": 1552201178900,
     "user": {
      "displayName": "Mahmood Amintoosi",
      "photoUrl": "https://lh4.googleusercontent.com/-L9kqNgEMq4Q/AAAAAAAAAAI/AAAAAAAACn4/2zKYeoGn0fI/s64/photo.jpg",
      "userId": "06389092743998374259"
     },
     "user_tz": -210
    },
    "id": "yo3OaniXiDGP",
    "outputId": "864ca616-8667-48b5-e445-7d6b060c40be"
   },
   "outputs": [],
   "source": [
    "# import os \n",
    "# WORK_DIR = \"/content/drive/My Drive/Teaching/InformationRetrieval/src/NLP with Python\"\n",
    "# os.chdir(WORK_DIR)\n",
    "# !pwd"
   ]
  },
  {
   "cell_type": "code",
   "execution_count": 3,
   "metadata": {
    "colab": {},
    "colab_type": "code",
    "id": "33HO_5R8hnBv"
   },
   "outputs": [],
   "source": [
    "from __future__ import unicode_literals\n",
    "import io\n",
    "filename = 'divan.txt'\n",
    "file = io.open(filename, encoding='utf-8', errors='ignore')\n",
    "matn = file.read()\n",
    "file.close()"
   ]
  },
  {
   "cell_type": "code",
   "execution_count": 4,
   "metadata": {
    "colab": {
     "base_uri": "https://localhost:8080/",
     "height": 34
    },
    "colab_type": "code",
    "executionInfo": {
     "elapsed": 761,
     "status": "ok",
     "timestamp": 1552201217068,
     "user": {
      "displayName": "Mahmood Amintoosi",
      "photoUrl": "https://lh4.googleusercontent.com/-L9kqNgEMq4Q/AAAAAAAAAAI/AAAAAAAACn4/2zKYeoGn0fI/s64/photo.jpg",
      "userId": "06389092743998374259"
     },
     "user_tz": -210
    },
    "id": "qQf8SN6khnBy",
    "outputId": "c5b8a24e-2568-4bbb-cff9-76980449f547"
   },
   "outputs": [
    {
     "data": {
      "text/plain": [
       "282658"
      ]
     },
     "execution_count": 4,
     "metadata": {},
     "output_type": "execute_result"
    }
   ],
   "source": [
    "len(matn)"
   ]
  },
  {
   "cell_type": "code",
   "execution_count": 5,
   "metadata": {
    "colab": {},
    "colab_type": "code",
    "id": "fhJBZccxhnB3"
   },
   "outputs": [],
   "source": [
    "import hazm"
   ]
  },
  {
   "cell_type": "code",
   "execution_count": 6,
   "metadata": {
    "colab": {
     "base_uri": "https://localhost:8080/",
     "height": 87
    },
    "colab_type": "code",
    "executionInfo": {
     "elapsed": 758,
     "status": "ok",
     "timestamp": 1552201334957,
     "user": {
      "displayName": "Mahmood Amintoosi",
      "photoUrl": "https://lh4.googleusercontent.com/-L9kqNgEMq4Q/AAAAAAAAAAI/AAAAAAAACn4/2zKYeoGn0fI/s64/photo.jpg",
      "userId": "06389092743998374259"
     },
     "user_tz": -210
    },
    "id": "uy2UBBL1hnB6",
    "outputId": "7b8ff3b4-f551-48c8-db4b-1fdc2e28ee55"
   },
   "outputs": [
    {
     "name": "stdout",
     "output_type": "stream",
     "text": [
      "﻿ ديوان حافظ غزل   ۱\n",
      "الا يا ايها الساقی ادر کاسا و ناولها که عشق آسان نمود اول ولی افتاد مشکل‌ها\n",
      "...\n",
      "هر مرغ به دستانی در گلشن شاه آمد بلبل به نواسازی حافظ به غزل گويی\n"
     ]
    }
   ],
   "source": [
    "sentence = hazm.sent_tokenize(matn)\n",
    "print(sentence[0])\n",
    "print(sentence[1])\n",
    "print('...')\n",
    "print(sentence[-1])"
   ]
  },
  {
   "cell_type": "code",
   "execution_count": 7,
   "metadata": {
    "colab": {
     "base_uri": "https://localhost:8080/",
     "height": 34
    },
    "colab_type": "code",
    "executionInfo": {
     "elapsed": 798,
     "status": "ok",
     "timestamp": 1552201337094,
     "user": {
      "displayName": "Mahmood Amintoosi",
      "photoUrl": "https://lh4.googleusercontent.com/-L9kqNgEMq4Q/AAAAAAAAAAI/AAAAAAAACn4/2zKYeoGn0fI/s64/photo.jpg",
      "userId": "06389092743998374259"
     },
     "user_tz": -210
    },
    "id": "v-3X5fdEhnB9",
    "outputId": "039e5913-f19b-44f3-92ae-04b1b81ef32c"
   },
   "outputs": [
    {
     "data": {
      "text/plain": [
       "4686"
      ]
     },
     "execution_count": 7,
     "metadata": {},
     "output_type": "execute_result"
    }
   ],
   "source": [
    "len(sentence)"
   ]
  },
  {
   "cell_type": "code",
   "execution_count": 8,
   "metadata": {
    "colab": {
     "base_uri": "https://localhost:8080/",
     "height": 34
    },
    "colab_type": "code",
    "executionInfo": {
     "elapsed": 892,
     "status": "ok",
     "timestamp": 1552201339369,
     "user": {
      "displayName": "Mahmood Amintoosi",
      "photoUrl": "https://lh4.googleusercontent.com/-L9kqNgEMq4Q/AAAAAAAAAAI/AAAAAAAACn4/2zKYeoGn0fI/s64/photo.jpg",
      "userId": "06389092743998374259"
     },
     "user_tz": -210
    },
    "id": "i27vfa2JhnB_",
    "outputId": "d7ba731f-1ee8-4e9a-dd8b-6416a0899cad"
   },
   "outputs": [
    {
     "name": "stdout",
     "output_type": "stream",
     "text": [
      "['الا', 'يا', 'ايها', 'الساقی', 'ادر', 'کاسا', 'و', 'ناولها', 'که', 'عشق', 'آسان', 'نمود', 'اول', 'ولی', 'افتاد', 'مشکل\\u200cها']\n"
     ]
    }
   ],
   "source": [
    "sentence_word = [hazm.word_tokenize(sent) for sent in sentence]\n",
    "print(sentence_word[1])"
   ]
  },
  {
   "cell_type": "code",
   "execution_count": 9,
   "metadata": {
    "colab": {
     "base_uri": "https://localhost:8080/",
     "height": 34
    },
    "colab_type": "code",
    "executionInfo": {
     "elapsed": 840,
     "status": "ok",
     "timestamp": 1552201341163,
     "user": {
      "displayName": "Mahmood Amintoosi",
      "photoUrl": "https://lh4.googleusercontent.com/-L9kqNgEMq4Q/AAAAAAAAAAI/AAAAAAAACn4/2zKYeoGn0fI/s64/photo.jpg",
      "userId": "06389092743998374259"
     },
     "user_tz": -210
    },
    "id": "e3SJYWHVhnCB",
    "outputId": "a8b40fd9-43aa-406a-b817-e6122b77adab"
   },
   "outputs": [
    {
     "data": {
      "text/plain": [
       "4686"
      ]
     },
     "execution_count": 9,
     "metadata": {},
     "output_type": "execute_result"
    }
   ],
   "source": [
    "len(sentence_word)"
   ]
  },
  {
   "cell_type": "code",
   "execution_count": 10,
   "metadata": {
    "colab": {
     "base_uri": "https://localhost:8080/",
     "height": 34
    },
    "colab_type": "code",
    "executionInfo": {
     "elapsed": 772,
     "status": "ok",
     "timestamp": 1552201342895,
     "user": {
      "displayName": "Mahmood Amintoosi",
      "photoUrl": "https://lh4.googleusercontent.com/-L9kqNgEMq4Q/AAAAAAAAAAI/AAAAAAAACn4/2zKYeoGn0fI/s64/photo.jpg",
      "userId": "06389092743998374259"
     },
     "user_tz": -210
    },
    "id": "ibSObSYchnCF",
    "outputId": "f6b48d97-eb7c-4c20-b117-df76eacc175e"
   },
   "outputs": [
    {
     "name": "stdout",
     "output_type": "stream",
     "text": [
      "['\\ufeff ديوان حافظ غزل   ۱', 'الا يا ايها الساقی ادر کاسا و ناولها که عشق آسان نمود اول ولی افتاد مشکل\\u200cها']\n"
     ]
    }
   ],
   "source": [
    "sent_tok = hazm.sent_tokenize(matn)\n",
    "len(sent_tok)\n",
    "print(sent_tok[0:2])"
   ]
  },
  {
   "cell_type": "code",
   "execution_count": 11,
   "metadata": {
    "colab": {
     "base_uri": "https://localhost:8080/",
     "height": 70
    },
    "colab_type": "code",
    "executionInfo": {
     "elapsed": 520,
     "status": "ok",
     "timestamp": 1552201344348,
     "user": {
      "displayName": "Mahmood Amintoosi",
      "photoUrl": "https://lh4.googleusercontent.com/-L9kqNgEMq4Q/AAAAAAAAAAI/AAAAAAAACn4/2zKYeoGn0fI/s64/photo.jpg",
      "userId": "06389092743998374259"
     },
     "user_tz": -210
    },
    "id": "Gk6TjVr8hnCH",
    "outputId": "0335fbc5-3f4c-40bd-cd0e-9f8e0935a53f"
   },
   "outputs": [
    {
     "name": "stdout",
     "output_type": "stream",
     "text": [
      "63668\n",
      "['ديوان', 'حافظ', 'غزل', '۱', 'الا', 'يا', 'ايها', 'الساقی']\n",
      "<class 'list'>\n"
     ]
    }
   ],
   "source": [
    "word_tok = hazm.word_tokenize(matn)\n",
    "print(len(word_tok))\n",
    "print(word_tok[1:9])\n",
    "print(type(word_tok))"
   ]
  },
  {
   "cell_type": "code",
   "execution_count": 12,
   "metadata": {
    "colab": {
     "base_uri": "https://localhost:8080/",
     "height": 492
    },
    "colab_type": "code",
    "executionInfo": {
     "elapsed": 755,
     "status": "ok",
     "timestamp": 1552201348636,
     "user": {
      "displayName": "Mahmood Amintoosi",
      "photoUrl": "https://lh4.googleusercontent.com/-L9kqNgEMq4Q/AAAAAAAAAAI/AAAAAAAACn4/2zKYeoGn0fI/s64/photo.jpg",
      "userId": "06389092743998374259"
     },
     "user_tz": -210
    },
    "id": "lUiQG8IohnCK",
    "outputId": "cca8109a-fe22-4b6a-8ed9-4f290a31759b"
   },
   "outputs": [
    {
     "name": "stdout",
     "output_type": "stream",
     "text": [
      "63668\n",
      "Displaying 25 of 25 matches:\n",
      " سماع وعظ کجا نغمه رباب کجا ز روی دوست دل دشمنان چه دريابد چراغ مرده کجا شمع آفت\n",
      "نخدان که چاه در راه است کجا همی‌روی ای دل بدين شتاب کجا بشد که ياد خوشش باد روزگ\n",
      "کجا غزل ۳ اگر آن ترک شيرازی به دست آرد دل ما را به خال هندويش بخشم سمرقند و بخار\n",
      "وخ شيرين کار شهرآشوب چنان بردند صبر از دل که ترکان خوان يغما را ز عشق ناتمام ما \n",
      "ظ سرود زهره به رقص آورد مسيحا را غزل ۵ دل می‌رود ز دستم صاحب دلان خدا را دردا که\n",
      "اشارت ز فريب او بينديش و غلط مکن نگارا دل عالمی بسوزی چو عذار برفروزی تو از اين \n",
      "ا چه قيامت است جانا که به عاشقان نمودی دل و جان فدای رويت بنما عذار ما را به خدا\n",
      "کش و برو يعنی طمع مدار وصال دوام را ای دل شباب رفت و نچيدی گلی ز عيش پيرانه سر م\n",
      "ن من سوخت اين افسردگان خام را محرم راز دل شيدای خود کس نمی‌بينم ز خاص و عام را ب\n",
      "ست در عهد ازل تقدير ما عقل اگر داند که دل دربند زلفش چون خوش است عاقلان ديوانه گ\n",
      "زمان جز لطف و خوبی نيست در تفسير ما با دل سنگينت آيا هيچ درگيرد شبی آه آتشناک و \n",
      " جم گر چه جام ما نشد پرمی به دوران شما دل خرابی می‌کند دلدار را آگه کنيد زينهار \n",
      " خوبان رحم کن بر اين غريب گفت در دنبال دل ره گم کند مسکين غريب گفتمش مگذر زمانی \n",
      "ه نباشد انديشه آمرزش و پروای ثوابت راه دل عشاق زد آن چشم خماری پيداست از اين شيو\n",
      " سرابت تا در ره پيری به چه آيين روی ای دل باری به غلط صرف شد ايام شبابت ای قصر د\n",
      "ل باری به غلط صرف شد ايام شبابت ای قصر دل افروز که منزلگه انسی يا رب مکناد آفت ا\n",
      "ی خواجه جهان انداخت غزل ۱۷ سينه از آتش دل در غم جانانه بسوخت آتشی بود در اين خان\n",
      "خت جانم از آتش مهر رخ جانانه بسوخت سوز دل بين که ز بس آتش اشکم دل شمع دوش بر من \n",
      "نانه بسوخت سوز دل بين که ز بس آتش اشکم دل شمع دوش بر من ز سر مهر چو پروانه بسوخت\n",
      "ت که دلسوز من است چون من از خويش برفتم دل بيگانه بسوخت خرقه زهد مرا آب خرابات بب\n",
      " در اين مدت ايام فراق برگرفتی ز حريفان دل و دل می‌دادت برسان بندگی دختر رز گو به\n",
      "ين مدت ايام فراق برگرفتی ز حريفان دل و دل می‌دادت برسان بندگی دختر رز گو به درآی\n",
      "ان در قدم و مقدم توست جای غم باد مر آن دل که نخواهد_شادت شکر ايزد که ز تاراج خزا\n",
      "جاست بازپرسيد ز گيسوی شکن در شکنش کاين دل غمزده سرگشته گرفتار کجاست عقل ديوانه ش\n",
      " کجاست عقل ديوانه شد آن سلسله مشکين کو دل ز ما گوشه گرفت ابروی دلدار کجاست ساقی \n"
     ]
    }
   ],
   "source": [
    "import nltk\n",
    "txt = nltk.text.Text(word_tok)\n",
    "print(len(txt))\n",
    "txt.concordance(\"دل\")"
   ]
  },
  {
   "cell_type": "code",
   "execution_count": 13,
   "metadata": {
    "colab": {
     "base_uri": "https://localhost:8080/",
     "height": 34
    },
    "colab_type": "code",
    "executionInfo": {
     "elapsed": 769,
     "status": "ok",
     "timestamp": 1552201387108,
     "user": {
      "displayName": "Mahmood Amintoosi",
      "photoUrl": "https://lh4.googleusercontent.com/-L9kqNgEMq4Q/AAAAAAAAAAI/AAAAAAAACn4/2zKYeoGn0fI/s64/photo.jpg",
      "userId": "06389092743998374259"
     },
     "user_tz": -210
    },
    "id": "XYrNN_bMjq6F",
    "outputId": "f97fdc56-d42f-40df-bc27-b817dd14d4ad"
   },
   "outputs": [
    {
     "data": {
      "text/plain": [
       "<Text: ﻿ ديوان حافظ غزل ۱ الا يا ايها...>"
      ]
     },
     "execution_count": 13,
     "metadata": {},
     "output_type": "execute_result"
    }
   ],
   "source": [
    "txt"
   ]
  },
  {
   "cell_type": "code",
   "execution_count": 14,
   "metadata": {
    "colab": {
     "base_uri": "https://localhost:8080/",
     "height": 17634
    },
    "colab_type": "code",
    "executionInfo": {
     "elapsed": 751,
     "status": "ok",
     "timestamp": 1552201389156,
     "user": {
      "displayName": "Mahmood Amintoosi",
      "photoUrl": "https://lh4.googleusercontent.com/-L9kqNgEMq4Q/AAAAAAAAAAI/AAAAAAAACn4/2zKYeoGn0fI/s64/photo.jpg",
      "userId": "06389092743998374259"
     },
     "user_tz": -210
    },
    "id": "scXigT6WhnCM",
    "outputId": "1657e88f-acb9-4c31-96a0-1c569f452163"
   },
   "outputs": [
    {
     "data": {
      "text/plain": [
       "FreqDist({'که': 2430, 'و': 2217, 'به': 1799, 'از': 1429, 'در': 1244, 'تو': 835, 'ز': 752, 'اين': 661, 'آن': 654, 'من': 617, ...})"
      ]
     },
     "execution_count": 14,
     "metadata": {},
     "output_type": "execute_result"
    }
   ],
   "source": [
    "txt.vocab()"
   ]
  },
  {
   "cell_type": "code",
   "execution_count": 15,
   "metadata": {
    "colab": {
     "base_uri": "https://localhost:8080/",
     "height": 86
    },
    "colab_type": "code",
    "executionInfo": {
     "elapsed": 1501,
     "status": "ok",
     "timestamp": 1552153249308,
     "user": {
      "displayName": "Mahmood Amintoosi",
      "photoUrl": "https://lh4.googleusercontent.com/-L9kqNgEMq4Q/AAAAAAAAAAI/AAAAAAAACn4/2zKYeoGn0fI/s64/photo.jpg",
      "userId": "06389092743998374259"
     },
     "user_tz": -210
    },
    "id": "Rt9VaH3qhnCQ",
    "outputId": "f06f3476-d49d-4b97-88d7-fba20d36ca19"
   },
   "outputs": [
    {
     "name": "stdout",
     "output_type": "stream",
     "text": [
      "Displaying 3 of 3 matches:\n",
      "ب و نام صليب هست عاشق که شد که يار به حالش نظر نکرد ای خواجه درد نيست وگرنه طبيب\n",
      "لولی شنگول سرمست چه داری آگهی چون است حالش گر آن شيرين پسر خونم بريزد دلا چون شي\n",
      " و راز و نياز من حافظ ز گريه سوخت بگو حالش ای صبا با شاه دوست پرور دشمن گداز من \n"
     ]
    }
   ],
   "source": [
    "txt.concordance(\"حالش\")"
   ]
  },
  {
   "cell_type": "markdown",
   "metadata": {
    "colab_type": "text",
    "id": "NYn_869ncIEh"
   },
   "source": [
    "#پخش شعرخوانی حجت الاسلام قاسمیان \n",
    "روی تو کس ندید و هزارت رقیب هست\n",
    "\n",
    "در غنچه‌ای هنوز و صدت عندلیب هست\n",
    "\n",
    "گر آمدم به کوی تو چندان غریب نیست\n",
    "\n",
    "چون من در آن دیار هزاران غریب هست\n",
    "\n",
    "در عشق خانقاه و خرابات فرق نیست\n",
    "\n",
    "هر جا که هست پرتو روی حبیب هست\n",
    "\n",
    "آن جا که کار صومعه را جلوه می‌دهند\n",
    "\n",
    "ناقوس دیر راهب و نام صلیب هست\n",
    "\n",
    "عاشق که شد که یار به حالش نظر نکرد\n",
    "\n",
    "ای خواجه درد نیست وگرنه طبیب هست\n",
    "\n",
    "فریاد حافظ این همه آخر به هرزه نیست\n",
    "\n",
    "هم قصه‌ای غریب و حدیثی عجیب هست"
   ]
  },
  {
   "cell_type": "code",
   "execution_count": 16,
   "metadata": {
    "colab": {
     "base_uri": "https://localhost:8080/",
     "height": 34
    },
    "colab_type": "code",
    "executionInfo": {
     "elapsed": 2246,
     "status": "ok",
     "timestamp": 1552153260198,
     "user": {
      "displayName": "Mahmood Amintoosi",
      "photoUrl": "https://lh4.googleusercontent.com/-L9kqNgEMq4Q/AAAAAAAAAAI/AAAAAAAACn4/2zKYeoGn0fI/s64/photo.jpg",
      "userId": "06389092743998374259"
     },
     "user_tz": -210
    },
    "id": "YY_UIYIohnCX",
    "outputId": "675f2a96-2ac6-4056-958b-9cedf9cdaf1f"
   },
   "outputs": [
    {
     "name": "stdout",
     "output_type": "stream",
     "text": [
      "no matches\n"
     ]
    }
   ],
   "source": [
    "txt.concordance(\"طبیب\")"
   ]
  },
  {
   "cell_type": "code",
   "execution_count": 17,
   "metadata": {
    "colab": {
     "base_uri": "https://localhost:8080/",
     "height": 276
    },
    "colab_type": "code",
    "executionInfo": {
     "elapsed": 1507,
     "status": "ok",
     "timestamp": 1552153267155,
     "user": {
      "displayName": "Mahmood Amintoosi",
      "photoUrl": "https://lh4.googleusercontent.com/-L9kqNgEMq4Q/AAAAAAAAAAI/AAAAAAAACn4/2zKYeoGn0fI/s64/photo.jpg",
      "userId": "06389092743998374259"
     },
     "user_tz": -210
    },
    "id": "51rnrwhphnCa",
    "outputId": "04a87b3c-9b69-40f8-f077-0b818f950cf3"
   },
   "outputs": [
    {
     "name": "stdout",
     "output_type": "stream",
     "text": [
      "Displaying 14 of 14 matches:\n",
      "ند و گلاب از لب يارم فرمود نرگس او که طبيب دل بيمار من است آن که در طرز غزل نکته\n",
      "حالش نظر نکرد ای خواجه درد نيست وگرنه طبيب هست فرياد حافظ اين همه آخر به هرزه ني\n",
      "عی چه کوشيم چو از مروه صفا رفت دی گفت طبيب از سر حسرت چو مرا ديد هيهات که رنج تو\n",
      "ا بيارمت خواهم_که پيش ميرمت ای بی‌وفا طبيب بيمار بازپرس که در انتظارمت صد جوی آب\n",
      "ستانی داد شکسته وار به درگاهت آمدم که طبيب به موميايی لطف توام نشانی داد تنش درس\n",
      "ف چمن که جان ز مرگ به بيماری صبا ببرد طبيب عشق منم باده ده که اين معجون فراغت آر\n",
      "لاج ضعف دل ما کرشمه ساقيست برآر سر که طبيب آمد و دوا آورد مريد پير مغانم ز من مر\n",
      "دارند هر آن که خدمت جام جهان نما بکند طبيب عشق مسيحادم است و مشفق ليک چو درد در \n",
      " که روح را می‌کنم از پی اش روان ای که طبيب خسته‌ای روی زبان من ببين کاين دم و دو\n",
      "عيش داده_است شيشه‌ام از چه می‌برد پيش طبيب هر زمان حافظ از آب زندگی شعر تو داد ش\n",
      "حافظ از آب زندگی شعر تو داد شربتم ترک طبيب کن بيا نسخه شربتم بخوان غزل ۳۸۳ چندان\n",
      "به جان او که از ملک جهان به خدا را از طبيب من بپرسيد که آخر کی شود اين ناتوان به\n",
      "ی دل پياله گير و بياسا ز عمر خويش دمی طبيب راه نشين درد عشق نشناسد برو به دست کن\n",
      "ش زاهد از رندی دم مزن که نتوان گفت با طبيب نامحرم حال درد پنهانی می‌روی و مژگانت\n"
     ]
    }
   ],
   "source": [
    "# ي عربی به جای ی فارسی\n",
    "txt.concordance(\"طبيب\")"
   ]
  },
  {
   "cell_type": "code",
   "execution_count": 18,
   "metadata": {
    "colab": {
     "base_uri": "https://localhost:8080/",
     "height": 52
    },
    "colab_type": "code",
    "executionInfo": {
     "elapsed": 1584,
     "status": "ok",
     "timestamp": 1552202339338,
     "user": {
      "displayName": "Mahmood Amintoosi",
      "photoUrl": "https://lh4.googleusercontent.com/-L9kqNgEMq4Q/AAAAAAAAAAI/AAAAAAAACn4/2zKYeoGn0fI/s64/photo.jpg",
      "userId": "06389092743998374259"
     },
     "user_tz": -210
    },
    "id": "Il54nBoDhnCe",
    "outputId": "7f74c105-9de1-4b27-c531-46a319e4a3c3"
   },
   "outputs": [
    {
     "name": "stdout",
     "output_type": "stream",
     "text": [
      "عشق حافظ در ما آن دل ياد ديد به خون دم بربنديد سجاده راه آخر گر من ره\n",
      "تا را\n"
     ]
    }
   ],
   "source": [
    "txt.similar('طبيب')"
   ]
  },
  {
   "cell_type": "code",
   "execution_count": 19,
   "metadata": {
    "colab": {
     "base_uri": "https://localhost:8080/",
     "height": 52
    },
    "colab_type": "code",
    "executionInfo": {
     "elapsed": 770,
     "status": "ok",
     "timestamp": 1552202707869,
     "user": {
      "displayName": "Mahmood Amintoosi",
      "photoUrl": "https://lh4.googleusercontent.com/-L9kqNgEMq4Q/AAAAAAAAAAI/AAAAAAAACn4/2zKYeoGn0fI/s64/photo.jpg",
      "userId": "06389092743998374259"
     },
     "user_tz": -210
    },
    "id": "gH7vvqhrhnCi",
    "outputId": "79a6cd65-5ed0-48d9-e405-ed3a3adfd6cc"
   },
   "outputs": [
    {
     "name": "stdout",
     "output_type": "stream",
     "text": [
      "روی که در ما او دل حسن دامن حافظ به ره تو لطف سر گل هم بود باغ طبيب\n",
      "چون\n"
     ]
    }
   ],
   "source": [
    "txt.similar('عشق')"
   ]
  },
  {
   "cell_type": "code",
   "execution_count": 20,
   "metadata": {
    "colab": {
     "base_uri": "https://localhost:8080/",
     "height": 70
    },
    "colab_type": "code",
    "executionInfo": {
     "elapsed": 809,
     "status": "ok",
     "timestamp": 1552202761653,
     "user": {
      "displayName": "Mahmood Amintoosi",
      "photoUrl": "https://lh4.googleusercontent.com/-L9kqNgEMq4Q/AAAAAAAAAAI/AAAAAAAACn4/2zKYeoGn0fI/s64/photo.jpg",
      "userId": "06389092743998374259"
     },
     "user_tz": -210
    },
    "id": "ll8TJX_XfmJC",
    "outputId": "c6a854f0-8416-45f2-ec25-1f879d65486e"
   },
   "outputs": [
    {
     "name": "stdout",
     "output_type": "stream",
     "text": [
      "[nltk_data] Downloading package stopwords to\n",
      "[nltk_data]     C:\\Users\\Mahmood\\AppData\\Roaming\\nltk_data...\n",
      "[nltk_data]   Package stopwords is already up-to-date!\n"
     ]
    },
    {
     "data": {
      "text/plain": [
       "True"
      ]
     },
     "execution_count": 20,
     "metadata": {},
     "output_type": "execute_result"
    }
   ],
   "source": [
    "import nltk\n",
    "nltk.download('stopwords')"
   ]
  },
  {
   "cell_type": "code",
   "execution_count": 21,
   "metadata": {
    "colab": {
     "base_uri": "https://localhost:8080/",
     "height": 70
    },
    "colab_type": "code",
    "executionInfo": {
     "elapsed": 1017,
     "status": "ok",
     "timestamp": 1552202767927,
     "user": {
      "displayName": "Mahmood Amintoosi",
      "photoUrl": "https://lh4.googleusercontent.com/-L9kqNgEMq4Q/AAAAAAAAAAI/AAAAAAAACn4/2zKYeoGn0fI/s64/photo.jpg",
      "userId": "06389092743998374259"
     },
     "user_tz": -210
    },
    "id": "L-cMZ6vnhnCl",
    "outputId": "b8f9182a-efed-4fcf-8c32-e8d12dc64260"
   },
   "outputs": [
    {
     "name": "stdout",
     "output_type": "stream",
     "text": [
      "پير مغان; دريغ مدار; ياد باد; باد صبا; درويشان است; نتوان کرد; توانی\n",
      "کرد; غنيمت دان; خون جگر; اين همه; حيرت آمد; ياد آريد; رقص کنان; نيک\n",
      "نامی; بيار باده; دير مغان; نگه دارد; کلبه احزان; خود باشم; مشک ختن\n"
     ]
    }
   ],
   "source": [
    "txt.collocations()"
   ]
  },
  {
   "cell_type": "code",
   "execution_count": 22,
   "metadata": {
    "colab": {
     "base_uri": "https://localhost:8080/",
     "height": 34
    },
    "colab_type": "code",
    "executionInfo": {
     "elapsed": 772,
     "status": "ok",
     "timestamp": 1552202791863,
     "user": {
      "displayName": "Mahmood Amintoosi",
      "photoUrl": "https://lh4.googleusercontent.com/-L9kqNgEMq4Q/AAAAAAAAAAI/AAAAAAAACn4/2zKYeoGn0fI/s64/photo.jpg",
      "userId": "06389092743998374259"
     },
     "user_tz": -210
    },
    "id": "iRmArdtChnCn",
    "outputId": "7b365b8b-348a-4282-93c6-1e054cf646e1"
   },
   "outputs": [
    {
     "data": {
      "text/plain": [
       "232"
      ]
     },
     "execution_count": 22,
     "metadata": {},
     "output_type": "execute_result"
    }
   ],
   "source": [
    "txt.count('باد')"
   ]
  },
  {
   "cell_type": "code",
   "execution_count": 23,
   "metadata": {
    "colab": {
     "base_uri": "https://localhost:8080/",
     "height": 17634
    },
    "colab_type": "code",
    "executionInfo": {
     "elapsed": 713,
     "status": "ok",
     "timestamp": 1552202792898,
     "user": {
      "displayName": "Mahmood Amintoosi",
      "photoUrl": "https://lh4.googleusercontent.com/-L9kqNgEMq4Q/AAAAAAAAAAI/AAAAAAAACn4/2zKYeoGn0fI/s64/photo.jpg",
      "userId": "06389092743998374259"
     },
     "user_tz": -210
    },
    "id": "S7MrIjTchnCp",
    "outputId": "72ebd691-ed01-4005-9fd9-1aeca4df83b3"
   },
   "outputs": [
    {
     "data": {
      "text/plain": [
       "FreqDist({'که': 2430, 'و': 2217, 'به': 1799, 'از': 1429, 'در': 1244, 'تو': 835, 'ز': 752, 'اين': 661, 'آن': 654, 'من': 617, ...})"
      ]
     },
     "execution_count": 23,
     "metadata": {},
     "output_type": "execute_result"
    }
   ],
   "source": [
    "fdist1 = nltk.FreqDist(txt)\n",
    "fdist1"
   ]
  },
  {
   "cell_type": "code",
   "execution_count": 24,
   "metadata": {
    "colab": {
     "base_uri": "https://localhost:8080/",
     "height": 52
    },
    "colab_type": "code",
    "executionInfo": {
     "elapsed": 793,
     "status": "ok",
     "timestamp": 1552204020854,
     "user": {
      "displayName": "Mahmood Amintoosi",
      "photoUrl": "https://lh4.googleusercontent.com/-L9kqNgEMq4Q/AAAAAAAAAAI/AAAAAAAACn4/2zKYeoGn0fI/s64/photo.jpg",
      "userId": "06389092743998374259"
     },
     "user_tz": -210
    },
    "id": "qWBC6htmhnCt",
    "outputId": "8419c454-49f6-45e7-ce6d-21bfa6f58376"
   },
   "outputs": [
    {
     "name": "stdout",
     "output_type": "stream",
     "text": [
      "8\n",
      "543\n"
     ]
    }
   ],
   "source": [
    "print(fdist1['مرد'])\n",
    "print(fdist1['دل'])"
   ]
  },
  {
   "cell_type": "code",
   "execution_count": 25,
   "metadata": {
    "colab": {
     "base_uri": "https://localhost:8080/",
     "height": 34
    },
    "colab_type": "code",
    "executionInfo": {
     "elapsed": 769,
     "status": "ok",
     "timestamp": 1552203978395,
     "user": {
      "displayName": "Mahmood Amintoosi",
      "photoUrl": "https://lh4.googleusercontent.com/-L9kqNgEMq4Q/AAAAAAAAAAI/AAAAAAAACn4/2zKYeoGn0fI/s64/photo.jpg",
      "userId": "06389092743998374259"
     },
     "user_tz": -210
    },
    "id": "PGNf_KdIkPU8",
    "outputId": "a159d817-cec2-4f2f-e31d-8b69b57865f0"
   },
   "outputs": [
    {
     "data": {
      "text/plain": [
       "'که'"
      ]
     },
     "execution_count": 25,
     "metadata": {},
     "output_type": "execute_result"
    }
   ],
   "source": [
    "fdist1.max()"
   ]
  },
  {
   "cell_type": "code",
   "execution_count": 26,
   "metadata": {
    "colab": {
     "base_uri": "https://localhost:8080/",
     "height": 365
    },
    "colab_type": "code",
    "executionInfo": {
     "elapsed": 1211,
     "status": "ok",
     "timestamp": 1552202813434,
     "user": {
      "displayName": "Mahmood Amintoosi",
      "photoUrl": "https://lh4.googleusercontent.com/-L9kqNgEMq4Q/AAAAAAAAAAI/AAAAAAAACn4/2zKYeoGn0fI/s64/photo.jpg",
      "userId": "06389092743998374259"
     },
     "user_tz": -210
    },
    "id": "WVkLukTPhnCw",
    "outputId": "771e50d1-52ba-49cd-f3b1-cd826e446247"
   },
   "outputs": [
    {
     "data": {
      "text/plain": [
       "<Figure size 640x480 with 1 Axes>"
      ]
     },
     "metadata": {},
     "output_type": "display_data"
    }
   ],
   "source": [
    "fdist1.plot(50, cumulative=False)"
   ]
  },
  {
   "cell_type": "code",
   "execution_count": 27,
   "metadata": {
    "colab": {
     "base_uri": "https://localhost:8080/",
     "height": 376
    },
    "colab_type": "code",
    "executionInfo": {
     "elapsed": 833,
     "status": "ok",
     "timestamp": 1552202825735,
     "user": {
      "displayName": "Mahmood Amintoosi",
      "photoUrl": "https://lh4.googleusercontent.com/-L9kqNgEMq4Q/AAAAAAAAAAI/AAAAAAAACn4/2zKYeoGn0fI/s64/photo.jpg",
      "userId": "06389092743998374259"
     },
     "user_tz": -210
    },
    "id": "dnajxRMofKFa",
    "outputId": "aca4a972-76b5-4dc7-c2e7-66697ab88cf2"
   },
   "outputs": [
    {
     "data": {
      "image/png": "[encoded data removed]",
      "text/plain": [
       "<Figure size 432x288 with 1 Axes>"
      ]
     },
     "metadata": {
      "needs_background": "light"
     },
     "output_type": "display_data"
    }
   ],
   "source": [
    "txt.dispersion_plot([\"دل\", \"حافظ\", \"غم\", \"جهان\", \"خود\"])"
   ]
  },
  {
   "cell_type": "code",
   "execution_count": 28,
   "metadata": {},
   "outputs": [],
   "source": [
    "from bidi.algorithm import get_display\n",
    "import arabic_reshaper\n",
    "\n",
    "def make_farsi_text(x):\n",
    "    reshaped_text = arabic_reshaper.reshape(x)\n",
    "    farsi_text = get_display(reshaped_text)\n",
    "    return farsi_text"
   ]
  },
  {
   "cell_type": "code",
   "execution_count": 38,
   "metadata": {},
   "outputs": [
    {
     "data": {
      "image/png": "[encoded data removed]",
      "text/plain": [
       "<Figure size 432x288 with 1 Axes>"
      ]
     },
     "metadata": {
      "needs_background": "light"
     },
     "output_type": "display_data"
    }
   ],
   "source": [
    "txt.dispersion_plot([make_farsi_text(\"دل\"), make_farsi_text(\"حافظ\"), make_farsi_text(\"غم\"), make_farsi_text(\"جهان\"), make_farsi_text(\"خود\")])"
   ]
  },
  {
   "cell_type": "code",
   "execution_count": 30,
   "metadata": {
    "colab": {},
    "colab_type": "code",
    "id": "yZKStcmShnCz",
    "outputId": "5317b787-9197-4ac6-f15d-e957c2de6dca"
   },
   "outputs": [],
   "source": [
    "# nrm = Normalizer()\n",
    "# nrmlzr = nrm.normalize(matn)\n",
    "# print(len(nrmlzr))\n",
    "# print(nrmlzr[0:12])"
   ]
  },
  {
   "cell_type": "code",
   "execution_count": 31,
   "metadata": {
    "colab": {},
    "colab_type": "code",
    "id": "4EVkTIiYhnC3"
   },
   "outputs": [],
   "source": [
    "stemmer = hazm.Stemmer()\n",
    "sentence_stemed = []\n",
    "for i, sent in enumerate(sentence_word):    \n",
    "    word_list = []\n",
    "    for j, w in enumerate(sent):\n",
    "        word_list.append(stemmer.stem(w))        \n",
    "    sentence_stemed.append(word_list)"
   ]
  },
  {
   "cell_type": "code",
   "execution_count": 32,
   "metadata": {
    "colab": {},
    "colab_type": "code",
    "id": "20uXdAPwhnC5",
    "outputId": "e8864bce-5f8e-41e9-a863-0e9183081380"
   },
   "outputs": [
    {
     "name": "stdout",
     "output_type": "stream",
     "text": [
      "[['\\ufeff', 'ديو', 'حافظ', 'غزل', '۱'], ['الا', 'يا', 'اي', 'الساق', 'ادر', 'کاسا', 'و', 'ناول', 'که', 'عشق', 'آس', 'نمود', 'اول', 'ول', 'افتاد', 'مشکل']]\n"
     ]
    }
   ],
   "source": [
    "print(sentence_stemed[0:2])"
   ]
  },
  {
   "cell_type": "code",
   "execution_count": 33,
   "metadata": {
    "colab": {},
    "colab_type": "code",
    "id": "cbIGuu3xhnC7",
    "outputId": "8d7b7733-948c-40d6-dc29-b43ef3f14d66"
   },
   "outputs": [
    {
     "data": {
      "text/plain": [
       "4686"
      ]
     },
     "execution_count": 33,
     "metadata": {},
     "output_type": "execute_result"
    }
   ],
   "source": [
    "len(sentence_stemed)"
   ]
  },
  {
   "cell_type": "code",
   "execution_count": 34,
   "metadata": {
    "colab": {},
    "colab_type": "code",
    "id": "-woqUFSShnC-"
   },
   "outputs": [],
   "source": [
    "# nrm = hazm.Normalizer()\n",
    "# text_normal = nrm.affix_spacing(text)\n",
    "# text_normal = nrm.character_refinement(text_normal)\n",
    "# text_normal = nrm.punctuation_spacing(text_normal)"
   ]
  },
  {
   "cell_type": "code",
   "execution_count": 35,
   "metadata": {
    "colab": {
     "base_uri": "https://localhost:8080/",
     "height": 34
    },
    "colab_type": "code",
    "executionInfo": {
     "elapsed": 3037,
     "status": "ok",
     "timestamp": 1552201168423,
     "user": {
      "displayName": "Mahmood Amintoosi",
      "photoUrl": "https://lh4.googleusercontent.com/-L9kqNgEMq4Q/AAAAAAAAAAI/AAAAAAAACn4/2zKYeoGn0fI/s64/photo.jpg",
      "userId": "06389092743998374259"
     },
     "user_tz": -210
    },
    "id": "1VzBPOBxZgtP",
    "outputId": "0a50ed08-4a42-4b82-ba32-5cd98086cf8f"
   },
   "outputs": [],
   "source": [
    "# !pwd"
   ]
  },
  {
   "cell_type": "code",
   "execution_count": null,
   "metadata": {
    "colab": {},
    "colab_type": "code",
    "id": "nrzyqfs7Zins"
   },
   "outputs": [],
   "source": []
  }
 ],
 "metadata": {
  "colab": {
   "collapsed_sections": [],
   "name": "page-25-persian.ipynb",
   "provenance": [],
   "version": "0.3.2"
  },
  "kernelspec": {
   "display_name": "Python 3",
   "language": "python",
   "name": "python3"
  },
  "language_info": {
   "codemirror_mode": {
    "name": "ipython",
    "version": 3
   },
   "file_extension": ".py",
   "mimetype": "text/x-python",
   "name": "python",
   "nbconvert_exporter": "python",
   "pygments_lexer": "ipython3",
   "version": "3.6.7"
  }
 },
 "nbformat": 4,
 "nbformat_minor": 1
}
