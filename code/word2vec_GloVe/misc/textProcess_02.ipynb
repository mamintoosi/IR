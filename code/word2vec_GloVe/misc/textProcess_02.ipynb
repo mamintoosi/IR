{
 "cells": [
  {
   "cell_type": "code",
   "execution_count": 52,
   "metadata": {},
   "outputs": [],
   "source": [
    "import matplotlib.pyplot as plt\n",
    "from __future__ import unicode_literals\n",
    "from gensim.models import Word2Vec\n",
    "\n",
    "from sklearn.decomposition import PCA\n",
    "from sklearn.manifold import TSNE\n",
    "\n",
    "from bidi import algorithm as bidialg"
   ]
  },
  {
   "cell_type": "code",
   "execution_count": 53,
   "metadata": {},
   "outputs": [],
   "source": [
    "import io\n",
    "import hazm\n",
    "filename = 'divan.txt'\n",
    "file = io.open(filename, encoding='utf-8', errors='ignore')\n",
    "matn = file.read()\n",
    "file.close()"
   ]
  },
  {
   "cell_type": "code",
   "execution_count": 54,
   "metadata": {},
   "outputs": [
    {
     "name": "stdout",
     "output_type": "stream",
     "text": [
      "['\\ufeff', 'دیوان', 'حافظ', 'غزل', '۱', 'الا', 'یا', 'ایها', 'الساقی', 'ادر']\n"
     ]
    }
   ],
   "source": [
    "hafez_words = hazm.word_tokenize(matn)\n",
    "print(hafez_words[:10])"
   ]
  },
  {
   "cell_type": "code",
   "execution_count": 55,
   "metadata": {},
   "outputs": [
    {
     "name": "stdout",
     "output_type": "stream",
     "text": [
      "الا یا ایها الساقی ادر کاسا و ناولها که عشق آسان نمود اول ولی افتاد مشکل‌ها\n",
      "['به', 'بوی', 'نافه\\u200cای', 'کاخر', 'صبا', 'زان', 'طره', 'بگشاید', 'ز', 'تاب', 'جعد', 'مشکینش', 'چه', 'خون', 'افتاد', 'در', 'دل\\u200cها']\n"
     ]
    }
   ],
   "source": [
    "sentence = hazm.sent_tokenize(matn)\n",
    "sentence_word = [hazm.word_tokenize(sent) for sent in sentence]\n",
    "\n",
    "print(sentence[1])\n",
    "print(sentence_word[2])"
   ]
  },
  {
   "cell_type": "code",
   "execution_count": 56,
   "metadata": {},
   "outputs": [
    {
     "name": "stdout",
     "output_type": "stream",
     "text": [
      "[['\\ufeff', 'دیو', 'حافظ', 'غزل', '۱'], ['الا', 'یا', 'ای', 'الساق', 'ادر', 'کاسا', 'و', 'ناول', 'که', 'عشق', 'آس', 'نمود', 'اول', 'ول', 'افتاد', 'مشکل']]\n"
     ]
    }
   ],
   "source": [
    "stemmer = hazm.Stemmer()\n",
    "sentence_stemed = []\n",
    "for i, sent in enumerate(sentence_word):\n",
    "    \n",
    "    word_list = []\n",
    "    for j, w in enumerate(sent):\n",
    "        word_list.append(stemmer.stem(w))\n",
    "        \n",
    "    sentence_stemed.append(word_list)\n",
    "print(sentence_stemed[0:2])"
   ]
  },
  {
   "cell_type": "code",
   "execution_count": 57,
   "metadata": {},
   "outputs": [],
   "source": [
    "# -*- coding: utf-8 -*-\n",
    "import gensim\n",
    "# from gensim.models import word2vec\n",
    "# model= word2vec.Word2Vec.load_word2vec_format('D:/DTemp/DL/keras/NLP/FinalModel')\n",
    "Model = gensim.models.KeyedVectors.load_word2vec_format('D:/DTemp/DL/NLP/NLP/FinalModel')"
   ]
  },
  {
   "cell_type": "code",
   "execution_count": 58,
   "metadata": {},
   "outputs": [
    {
     "name": "stderr",
     "output_type": "stream",
     "text": [
      "d:\\ProgramData\\Anaconda3\\lib\\site-packages\\ipykernel_launcher.py:2: DeprecationWarning: Call to deprecated `wv` (Attribute will be removed in 4.0.0, use self instead).\n",
      "  \n"
     ]
    },
    {
     "data": {
      "text/plain": [
       "['در', 'و', 'رده', 'به', 'از', 'که', 'است', 'این', 'را', 'میلادی']"
      ]
     },
     "execution_count": 58,
     "metadata": {},
     "output_type": "execute_result"
    }
   ],
   "source": [
    "model = Model#(sentence, min_count=1)\n",
    "wiki_words = list(model.wv.vocab)\n",
    "wiki_words[:10]"
   ]
  },
  {
   "cell_type": "code",
   "execution_count": 59,
   "metadata": {},
   "outputs": [],
   "source": [
    "# model.wv.vocab"
   ]
  },
  {
   "cell_type": "code",
   "execution_count": 60,
   "metadata": {},
   "outputs": [
    {
     "name": "stdout",
     "output_type": "stream",
     "text": [
      "شعر\n",
      "قصیده\n",
      "غزل‌های\n",
      "دوبیتی\n",
      "مثنوی\n",
      "نیمایی\n",
      "غزلی\n",
      "غزل‌ها\n",
      "رباعی\n",
      "غزلیات\n"
     ]
    },
    {
     "name": "stderr",
     "output_type": "stream",
     "text": [
      "d:\\ProgramData\\Anaconda3\\lib\\site-packages\\gensim\\matutils.py:737: FutureWarning: Conversion of the second argument of issubdtype from `int` to `np.signedinteger` is deprecated. In future, it will be treated as `np.int32 == np.dtype(int).type`.\n",
      "  if np.issubdtype(vec.dtype, np.int):\n"
     ]
    }
   ],
   "source": [
    "most_similar = Model.most_similar('غزل')\n",
    "for words in most_similar:\n",
    "    print(words[0])"
   ]
  },
  {
   "cell_type": "code",
   "execution_count": 61,
   "metadata": {},
   "outputs": [
    {
     "name": "stdout",
     "output_type": "stream",
     "text": [
      "پرزیدنت\n",
      "کلینتون\n",
      "باراک\n",
      "وودز\n",
      "آیزنهاور\n",
      "پنتاگون\n",
      "کاندولیزا\n",
      "رامنی\n",
      "ایهود\n",
      "بوش\n"
     ]
    },
    {
     "name": "stderr",
     "output_type": "stream",
     "text": [
      "d:\\ProgramData\\Anaconda3\\lib\\site-packages\\gensim\\matutils.py:737: FutureWarning: Conversion of the second argument of issubdtype from `int` to `np.signedinteger` is deprecated. In future, it will be treated as `np.int32 == np.dtype(int).type`.\n",
      "  if np.issubdtype(vec.dtype, np.int):\n"
     ]
    }
   ],
   "source": [
    "model = Model.most_similar(positive=[u'امریکا',u'اوباما'],negative=[u'ایران'])\n",
    "for item in model:\n",
    "    print(item[0])"
   ]
  },
  {
   "cell_type": "code",
   "execution_count": 62,
   "metadata": {},
   "outputs": [
    {
     "name": "stdout",
     "output_type": "stream",
     "text": [
      "ملکه\n",
      "شاهنشاه\n",
      "فرمانروای\n",
      "ولیعهد\n",
      "شهبانوی\n",
      "امپراتور\n",
      "نایب‌السلطنه\n",
      "امپراتریس\n",
      "وشتی\n",
      "شاهان\n"
     ]
    },
    {
     "name": "stderr",
     "output_type": "stream",
     "text": [
      "d:\\ProgramData\\Anaconda3\\lib\\site-packages\\gensim\\matutils.py:737: FutureWarning: Conversion of the second argument of issubdtype from `int` to `np.signedinteger` is deprecated. In future, it will be treated as `np.int32 == np.dtype(int).type`.\n",
      "  if np.issubdtype(vec.dtype, np.int):\n"
     ]
    }
   ],
   "source": [
    "model = Model.most_similar(positive=['پادشاه','زن'],negative=['مرد'])\n",
    "for item in model:\n",
    "    print(item[0])"
   ]
  },
  {
   "cell_type": "code",
   "execution_count": 63,
   "metadata": {},
   "outputs": [
    {
     "name": "stdout",
     "output_type": "stream",
     "text": [
      "مرد\n",
      "روانپزشک\n",
      "روانپزشکی\n",
      "همجنسگرای\n",
      "پرستاران\n",
      "فمینیست‌های\n",
      "هنینگر\n",
      "روان‌درمانی\n",
      "ایالا\n",
      "درمانگر\n"
     ]
    },
    {
     "name": "stderr",
     "output_type": "stream",
     "text": [
      "d:\\ProgramData\\Anaconda3\\lib\\site-packages\\gensim\\matutils.py:737: FutureWarning: Conversion of the second argument of issubdtype from `int` to `np.signedinteger` is deprecated. In future, it will be treated as `np.int32 == np.dtype(int).type`.\n",
      "  if np.issubdtype(vec.dtype, np.int):\n"
     ]
    }
   ],
   "source": [
    "model = Model.most_similar(positive=[u'دکتر',u'زن'],negative=[u'آقا'])\n",
    "for item in model:\n",
    "    print(item[0])"
   ]
  },
  {
   "cell_type": "code",
   "execution_count": 64,
   "metadata": {},
   "outputs": [
    {
     "name": "stdout",
     "output_type": "stream",
     "text": [
      "شعر\n"
     ]
    },
    {
     "name": "stderr",
     "output_type": "stream",
     "text": [
      "d:\\ProgramData\\Anaconda3\\lib\\site-packages\\gensim\\matutils.py:737: FutureWarning: Conversion of the second argument of issubdtype from `int` to `np.signedinteger` is deprecated. In future, it will be treated as `np.int32 == np.dtype(int).type`.\n",
      "  if np.issubdtype(vec.dtype, np.int):\n"
     ]
    }
   ],
   "source": [
    "result = Model.most_similar_to_given('غزل',['حافظ','شعر','مثنوی'])\n",
    "print(result)"
   ]
  },
  {
   "cell_type": "code",
   "execution_count": null,
   "metadata": {},
   "outputs": [],
   "source": []
  },
  {
   "cell_type": "code",
   "execution_count": 65,
   "metadata": {},
   "outputs": [
    {
     "data": {
      "text/plain": [
       "['شعرم',\n",
       " 'کواکب',\n",
       " 'هادی',\n",
       " 'جمالت',\n",
       " 'ذره',\n",
       " 'نبیند',\n",
       " 'اوقاف',\n",
       " 'حیای',\n",
       " 'نرفت',\n",
       " 'سراپرده']"
      ]
     },
     "execution_count": 65,
     "metadata": {},
     "output_type": "execute_result"
    }
   ],
   "source": [
    "wiki_hafez = list(set(wiki_words).intersection(hafez_words))\n",
    "wiki_hafez[:10]"
   ]
  },
  {
   "cell_type": "code",
   "execution_count": 66,
   "metadata": {},
   "outputs": [
    {
     "name": "stderr",
     "output_type": "stream",
     "text": [
      "d:\\ProgramData\\Anaconda3\\lib\\site-packages\\gensim\\matutils.py:737: FutureWarning: Conversion of the second argument of issubdtype from `int` to `np.signedinteger` is deprecated. In future, it will be treated as `np.int32 == np.dtype(int).type`.\n",
      "  if np.issubdtype(vec.dtype, np.int):\n"
     ]
    },
    {
     "name": "stdout",
     "output_type": "stream",
     "text": [
      "ارباب ظالم\n",
      "دل ترسم\n",
      "جهان دنیا\n",
      "دنیا شمار\n",
      "پیر مرید\n"
     ]
    }
   ],
   "source": [
    "words = ['ارباب','دل','جهان','دنیا','پیر']\n",
    "for word in words:\n",
    "    if word in wiki_hafez:\n",
    "        wiki_hafez_word = wiki_hafez\n",
    "        wiki_hafez_word.remove(word)\n",
    "        result = Model.most_similar_to_given(word,wiki_hafez_word)\n",
    "        print(word+' '+result)"
   ]
  },
  {
   "cell_type": "code",
   "execution_count": 67,
   "metadata": {},
   "outputs": [
    {
     "name": "stdout",
     "output_type": "stream",
     "text": [
      "شراب‌های\n"
     ]
    },
    {
     "name": "stderr",
     "output_type": "stream",
     "text": [
      "d:\\ProgramData\\Anaconda3\\lib\\site-packages\\gensim\\matutils.py:737: FutureWarning: Conversion of the second argument of issubdtype from `int` to `np.signedinteger` is deprecated. In future, it will be treated as `np.int32 == np.dtype(int).type`.\n",
      "  if np.issubdtype(vec.dtype, np.int):\n"
     ]
    },
    {
     "name": "stdout",
     "output_type": "stream",
     "text": [
      "شراب\n",
      "------------\n",
      "آلفارا\n",
      "کاسا\n",
      "------------\n",
      "پوئبلا\n",
      "کاسا\n",
      "------------\n",
      "آلفاویر\n",
      "کاسا\n",
      "------------\n",
      "روئیس\n",
      "دلا\n",
      "------------\n",
      "کولونیا\n",
      "کاسا\n",
      "------------\n",
      "تکیلا\n",
      "ماش\n",
      "------------\n",
      "گراپا\n",
      "تنگم\n",
      "------------\n",
      "آلفارپ\n",
      "کاسا\n",
      "------------\n",
      "استادو\n",
      "کاسا\n",
      "------------\n"
     ]
    }
   ],
   "source": [
    "msWords = Model.most_similar(positive=[u'شراب',u'دل'],negative=[u'مست'])\n",
    "for item in msWords:\n",
    "    print(item[0])\n",
    "    result = Model.most_similar_to_given(item[0],wiki_hafez)\n",
    "    print(result)\n",
    "    print(\"------------\")"
   ]
  },
  {
   "cell_type": "code",
   "execution_count": 68,
   "metadata": {},
   "outputs": [
    {
     "data": {
      "text/plain": [
       "[('شراب\\u200cهای', 0.5171525478363037),\n",
       " ('آلفارا', 0.5039936304092407),\n",
       " ('پوئبلا', 0.5007946491241455),\n",
       " ('آلفاویر', 0.4964083731174469),\n",
       " ('روئیس', 0.4891003370285034),\n",
       " ('کولونیا', 0.4886552691459656),\n",
       " ('تکیلا', 0.48757192492485046),\n",
       " ('گراپا', 0.4862919747829437),\n",
       " ('آلفارپ', 0.4854711592197418),\n",
       " ('استادو', 0.4780022203922272)]"
      ]
     },
     "execution_count": 68,
     "metadata": {},
     "output_type": "execute_result"
    }
   ],
   "source": [
    "msWords"
   ]
  },
  {
   "cell_type": "code",
   "execution_count": 69,
   "metadata": {},
   "outputs": [
    {
     "data": {
      "text/plain": [
       "0.4780022203922272"
      ]
     },
     "execution_count": 69,
     "metadata": {},
     "output_type": "execute_result"
    }
   ],
   "source": [
    "item[1]"
   ]
  },
  {
   "cell_type": "code",
   "execution_count": 70,
   "metadata": {},
   "outputs": [
    {
     "data": {
      "text/plain": [
       "[1, 3]"
      ]
     },
     "execution_count": 70,
     "metadata": {},
     "output_type": "execute_result"
    }
   ],
   "source": [
    "x = list([1,2,3])\n",
    "if 2 in x:\n",
    "    x.remove(2)\n",
    "x"
   ]
  },
  {
   "cell_type": "code",
   "execution_count": null,
   "metadata": {},
   "outputs": [],
   "source": []
  }
 ],
 "metadata": {
  "kernelspec": {
   "display_name": "Python 3",
   "language": "python",
   "name": "python3"
  },
  "language_info": {
   "codemirror_mode": {
    "name": "ipython",
    "version": 3
   },
   "file_extension": ".py",
   "mimetype": "text/x-python",
   "name": "python",
   "nbconvert_exporter": "python",
   "pygments_lexer": "ipython3",
   "version": "3.7.0"
  }
 },
 "nbformat": 4,
 "nbformat_minor": 1
}
